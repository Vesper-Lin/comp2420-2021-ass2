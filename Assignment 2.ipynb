{
 "cells": [
  {
   "cell_type": "markdown",
   "metadata": {},
   "source": [
    "<h1 align='center'> COMP2420/COMP6420 - Introduction to Data Management,<br/> Analysis and Security</h1>\n",
    "\n",
    "<h1 align='center'> Assignment - 2</h1>\n",
    "\n",
    "-----\n",
    "\n",
    "|**Maximum Marks**         |**100**\n",
    "|--------------------------|--------\n",
    "|  **Weight**              |  **15% of the Total Course Grade**\n",
    "|  **Submission deadline** |  **8:00PM, Sunday, May 23th**\n",
    "|  **Submission mode**     |  **Electronic, Using GitLab**\n",
    "|  **Penalty**             |  **100% after the deadline**\n",
    "\n",
    "\n",
    "## Learning Outcomes\n",
    "The following learning outcomes apply to this piece:\n",
    "- **LO1** - Demonstrate a conceptual understanding of database systems and architecture, data models and declarative query languages\n",
    "- **LO2** - Define, query and manipulate a relational database\n",
    "- **LO3** - Demonstrate basic knowledge and understanding of descriptive and predictive data analysis methods, optimization and search, and knowledge representation.\n",
    "- **LO4** - Formulate and extract descriptive and predictive statistics from data\n",
    "- **LO5** - Analyse and interpret results from descriptive and predictive data analysis\n",
    "- **LO6** - Apply their knowledge to a given problem domain and articulate potential data analysis problems\n",
    "- **LO7** - Identify potential pitfalls, and social and ethical implications of data science\n",
    "- **LO8** - Explain key security concepts and the use of cryptographic techniques, digital signatures and PKI in security\n",
    "\n",
    "\n",
    "## Submission\n",
    "\n",
    "You need to submit the following items:\n",
    "- The notebook `Assignment-2.ipynb` \n",
    "- A completed `statement-of-originality.md`, found in the root of the forked gitlab repo.\n",
    "\n",
    "Submissions are performed by pushing to your forked GitLab assignment repository. For a refresher on forking and cloning repositories, please refer to `Lab 1`. Issues with your Git repo (with the exception of a CECS/ANU wide Gitlab failure) will not be considered as grounds for an extension. Any variation of this will result in a `zero mark`.\n",
    "\n",
    "***** \n",
    "\n",
    "### Notes:\n",
    "\n",
    "* It is strongly advised to read the whole assignment before attempting it and have at least a cursory glance at the dataset in order to gauge the requirements and understand what you need to do as a bigger picture.\n",
    "* Backup your assignment to your Gitlab repo often. \n",
    "* Extra reading and research will be required. Make sure you include all references in your Statement of Originality. If this does not occur, at best marks will be deduced. Otherwise, academic misconduct processes will be followed.\n",
    "* For answers requiring free form written text, use the designated cells denoted by `YOUR WRITTEN ANSWER HERE` -- double click on the cell to write inside them.\n",
    "* For all coding questions please write your code after the comment `YOUR CODE HERE`.\n",
    "* In the process of testing your code, you can insert more cells or use print statements for debugging, but when submitting your file remember to remove these cells and calls respectively. You are welcome to add additional cells to the final submission, provided they add value to the overall piece.\n",
    "* Your code answers will be marked on **correctness** and **readability** of your code, if your marker can't understand your code your marks may be deducted. \n",
    "* Your written answers will be marked on the **correctness**, **depth** and **clarity** of your written answers. If your marker cannot understand your answer, marks may be deducted\n",
    "* Before submitting, restart the kernel in Jupiter Lab and re-run all cells before submitting your code. This will ensure the namespace has not kept any old variables, as these won't come across in submission and your code will not run. Without this, you could lose a significant number of marks.\n",
    "\n",
    "*****"
   ]
  },
  {
   "cell_type": "markdown",
   "metadata": {},
   "source": [
    "## Enter Your Student ID Below:"
   ]
  },
  {
   "cell_type": "raw",
   "metadata": {},
   "source": [
    "u6828533"
   ]
  },
  {
   "cell_type": "markdown",
   "metadata": {},
   "source": [
    "## Introduction\n",
    "\n",
    "You have three (3) datasets to work with in this assignment, broken down as follows:\n",
    "\n",
    "- Questions 1 and 2 - Transcoding Dataset\n",
    "- Question 3 - SDSS\n",
    "- Question 4 - SuperStore Database\n",
    "\n",
    "Once again, the  dataset is a sizable dataset (roughly 8000 rows and 24 columns), so it is wise to consider your code in terms of complexity to ensure it doesn't take 30 minutes to run a single line.\n",
    "\n",
    "Further reading on the datasets can be found in the following locations:\n",
    "- [Transcoding Dataset.md](./data/cve/about.md)\n",
    "- [Northwind Database.md](./data/bikestores/about.md)\n",
    "- [SDSS Description](./data/SDSS_Description.txt)\n",
    "\n",
    "****"
   ]
  },
  {
   "cell_type": "code",
   "execution_count": 1,
   "metadata": {},
   "outputs": [],
   "source": [
    "# Code Imports\n",
    "# Every Lab import is here, you may need to uncomment additional items as necessary.\n",
    "import numpy as np\n",
    "import pandas as pd\n",
    "import matplotlib.pyplot as plt\n",
    "import sqlite3\n",
    "from sqlite3 import Error\n",
    "from scipy import stats\n",
    "from sklearn.linear_model import LogisticRegression     # Logistic Regression\n",
    "from sklearn.neighbors import KNeighborsClassifier      # k-Nearest Neighbours\n",
    "from sklearn.preprocessing import LabelEncoder          # encooding variables\n",
    "from sklearn.preprocessing import StandardScaler        # encooding variables\n",
    "from sklearn.model_selection import train_test_split    # testing our models\n",
    "from sklearn.preprocessing import OneHotEncoder         # nominal variable\n",
    "from sklearn.metrics import confusion_matrix            # scoring\n",
    "from sklearn.tree import DecisionTreeClassifier         # decision trees\n",
    "from sklearn.tree import DecisionTreeRegressor          # decision trees\n",
    "from sklearn import tree                                # decision trees\n",
    "from sklearn.decomposition import PCA                   # PCA \n",
    "from sklearn.cluster import KMeans                      # KMeans Clustering\n",
    "from sklearn.linear_model import LinearRegression"
   ]
  },
  {
   "cell_type": "code",
   "execution_count": 44,
   "metadata": {},
   "outputs": [],
   "source": [
    "# Import additional modules here as required\n",
    "# It is unlikely that you would need any additional modules, however we had added space here just in case you feel \n",
    "#     extras are required. Note that some justification as to WHY you are using them should be provided.\n",
    "#\n",
    "# Note that only modules in the standard Anaconda distribution are allowed. If you need to install it manually, it is not an accepted package.\n",
    "\n",
    "# JUST TO MAKE SURE SOME WARNINGS ARE IGNORED \n",
    "import warnings\n",
    "warnings.filterwarnings(\"ignore\")\n",
    "\n",
    "# visualization using seaborn\n",
    "import seaborn as sns\n",
    "\n",
    "# Silhouette Method For Optimal k\n",
    "from sklearn.metrics import silhouette_score"
   ]
  },
  {
   "cell_type": "markdown",
   "metadata": {},
   "source": [
    "****\n",
    "## Q1: Clustering Videos for Transcoding <span style= 'float: right;'><b>[25 marks]</b></span>\n",
    "Building off the dataset you initially encountered in Assignment 1, the Transcoding dataset has made a return for the following question.\n",
    "\n",
    "The following question is designed to get you to load and process data and implement a clustering model for the given scenario below. You have been introduced to `KMeans` clustering in the lectures and labs, and this would therefore be the assumed clustering method, although you are welcome to supplement this with other clustering methods from the `sklearn` package as you desire.\n",
    "\n",
    "You will first be asked to import and pre-process the data ready to implement a clustering model. Then, you are on your own in the world of clustering. Good luck!"
   ]
  },
  {
   "cell_type": "markdown",
   "metadata": {},
   "source": [
    "### 1.1 Preprocessing <span style= 'float: right;'><b>[5 marks]</b></span>\n",
    "\n",
    "To start, bring in the data and get it ready for clustering. Your tasks are:\n",
    "\n",
    "1. Import the Data. The dataset is available in the location `data/transcoding_data.csv`.\n",
    "2. Check the dataset for any missing values and account for them.\n",
    "3. Prepare the data for a clustering task. You are welcome to use the data processing code that you wrote for the previous assignment.\n",
    "    - Drop irrelevant and redundant columns. Also drop the columns `frames`, `category`, `size`, `o_bitrate`, `codec`, and `o_codec`.\n",
    "    - Encode `o_resolution` as ordinal categorical variable with the order (176 x 144) $\\prec$ (320 x 240) $\\prec$ (480 x 360) $\\prec$ (640 x 480) $\\prec$ (1280 x 720) $\\prec$ (1920 x 1080).\n",
    "4. Provide descriptive statistics and display the first ten rows of the resulting dataset.\n",
    "\n",
    "Descriptive statistics generally consists of count, mean, standard deviation, min, max, and interquartile measures.\n",
    "The relation $a \\prec b$ states that the variable $a$ precedes $b$."
   ]
  },
  {
   "cell_type": "code",
   "execution_count": 3,
   "metadata": {},
   "outputs": [],
   "source": [
    "# YOUR CODE HERE\n",
    "# (ANY ADDITIONAL CELLS AS REQUIRED)\n",
    "\n",
    "# 1. import data\n",
    "transcoding_data = pd.read_csv('./data/transcoding_data.csv')"
   ]
  },
  {
   "cell_type": "code",
   "execution_count": 4,
   "metadata": {},
   "outputs": [
    {
     "data": {
      "text/plain": [
       "id              False\n",
       "duration        False\n",
       "codec           False\n",
       "bitrate         False\n",
       "width           False\n",
       "height          False\n",
       "resolution      False\n",
       "framerate       False\n",
       "frames          False\n",
       "i               False\n",
       "p               False\n",
       "b               False\n",
       "size            False\n",
       "category        False\n",
       "url             False\n",
       "o_codec         False\n",
       "o_bitrate       False\n",
       "o_framerate     False\n",
       "o_width         False\n",
       "o_height        False\n",
       "o_resolution    False\n",
       "umem            False\n",
       "utime           False\n",
       "dtype: bool"
      ]
     },
     "execution_count": 4,
     "metadata": {},
     "output_type": "execute_result"
    }
   ],
   "source": [
    "# 2. check for any missing values \n",
    "# the result below shows there are no missing values in the dataset\n",
    "transcoding_data.isnull().any()"
   ]
  },
  {
   "cell_type": "code",
   "execution_count": 5,
   "metadata": {},
   "outputs": [],
   "source": [
    "# 3. prepare for clustering\n",
    "# drop columns\n",
    "transcoding_data.drop([\n",
    "    # irrelevant columns\n",
    "    'id', 'url', \n",
    "    # redundant columns\n",
    "    'width', 'height', 'o_width', 'o_height',\n",
    "    # designated columns\n",
    "    'frames', 'category', 'size', 'o_bitrate', 'codec', 'o_codec'\n",
    "], axis = 1, inplace=True)\n",
    "\n",
    "# archive data\n",
    "transcoding_data_copy = transcoding_data.copy()\n",
    "\n",
    "def convert_o_resolution(object):\n",
    "    if object == '176x144':\n",
    "        return '1'\n",
    "    if object == '320x240':\n",
    "        return '2'\n",
    "    if object == '480x360':\n",
    "        return '3'\n",
    "    if object == '640x480':\n",
    "        return '4'\n",
    "    if object == '1280x720':\n",
    "        return '5'\n",
    "    if object == '1920x1080':\n",
    "        return '6'\n",
    "\n",
    "# encode o_resolution as ordinal categorical variable    \n",
    "transcoding_data['o_resolution'] = transcoding_data['o_resolution'].apply(convert_o_resolution)"
   ]
  },
  {
   "cell_type": "code",
   "execution_count": 6,
   "metadata": {},
   "outputs": [
    {
     "data": {
      "text/html": [
       "<div>\n",
       "<style scoped>\n",
       "    .dataframe tbody tr th:only-of-type {\n",
       "        vertical-align: middle;\n",
       "    }\n",
       "\n",
       "    .dataframe tbody tr th {\n",
       "        vertical-align: top;\n",
       "    }\n",
       "\n",
       "    .dataframe thead th {\n",
       "        text-align: right;\n",
       "    }\n",
       "</style>\n",
       "<table border=\"1\" class=\"dataframe\">\n",
       "  <thead>\n",
       "    <tr style=\"text-align: right;\">\n",
       "      <th></th>\n",
       "      <th>duration</th>\n",
       "      <th>bitrate</th>\n",
       "      <th>framerate</th>\n",
       "      <th>i</th>\n",
       "      <th>p</th>\n",
       "      <th>b</th>\n",
       "      <th>o_framerate</th>\n",
       "      <th>umem</th>\n",
       "      <th>utime</th>\n",
       "    </tr>\n",
       "  </thead>\n",
       "  <tbody>\n",
       "    <tr>\n",
       "      <th>count</th>\n",
       "      <td>4890</td>\n",
       "      <td>4890</td>\n",
       "      <td>4890</td>\n",
       "      <td>4890</td>\n",
       "      <td>4890</td>\n",
       "      <td>4890</td>\n",
       "      <td>4890</td>\n",
       "      <td>4890</td>\n",
       "      <td>4890</td>\n",
       "    </tr>\n",
       "    <tr>\n",
       "      <th>mean</th>\n",
       "      <td>1277</td>\n",
       "      <td>788</td>\n",
       "      <td>23</td>\n",
       "      <td>399</td>\n",
       "      <td>28510</td>\n",
       "      <td>116</td>\n",
       "      <td>21</td>\n",
       "      <td>197016</td>\n",
       "      <td>162</td>\n",
       "    </tr>\n",
       "    <tr>\n",
       "      <th>std</th>\n",
       "      <td>1554</td>\n",
       "      <td>1166</td>\n",
       "      <td>8</td>\n",
       "      <td>497</td>\n",
       "      <td>36594</td>\n",
       "      <td>158</td>\n",
       "      <td>7</td>\n",
       "      <td>195384</td>\n",
       "      <td>72</td>\n",
       "    </tr>\n",
       "    <tr>\n",
       "      <th>min</th>\n",
       "      <td>1</td>\n",
       "      <td>9</td>\n",
       "      <td>0</td>\n",
       "      <td>0</td>\n",
       "      <td>12</td>\n",
       "      <td>0</td>\n",
       "      <td>12</td>\n",
       "      <td>3970</td>\n",
       "      <td>1</td>\n",
       "    </tr>\n",
       "    <tr>\n",
       "      <th>25%</th>\n",
       "      <td>405</td>\n",
       "      <td>91</td>\n",
       "      <td>12</td>\n",
       "      <td>116</td>\n",
       "      <td>7731</td>\n",
       "      <td>29</td>\n",
       "      <td>15</td>\n",
       "      <td>63693</td>\n",
       "      <td>107</td>\n",
       "    </tr>\n",
       "    <tr>\n",
       "      <th>50%</th>\n",
       "      <td>812</td>\n",
       "      <td>347</td>\n",
       "      <td>25</td>\n",
       "      <td>247</td>\n",
       "      <td>17230</td>\n",
       "      <td>65</td>\n",
       "      <td>24</td>\n",
       "      <td>130939</td>\n",
       "      <td>155</td>\n",
       "    </tr>\n",
       "    <tr>\n",
       "      <th>75%</th>\n",
       "      <td>1545</td>\n",
       "      <td>837</td>\n",
       "      <td>30</td>\n",
       "      <td>495</td>\n",
       "      <td>35080</td>\n",
       "      <td>143</td>\n",
       "      <td>25</td>\n",
       "      <td>260130</td>\n",
       "      <td>206</td>\n",
       "    </tr>\n",
       "    <tr>\n",
       "      <th>max</th>\n",
       "      <td>25845</td>\n",
       "      <td>14502</td>\n",
       "      <td>49</td>\n",
       "      <td>7032</td>\n",
       "      <td>530243</td>\n",
       "      <td>2329</td>\n",
       "      <td>30</td>\n",
       "      <td>1315594</td>\n",
       "      <td>614</td>\n",
       "    </tr>\n",
       "  </tbody>\n",
       "</table>\n",
       "</div>"
      ],
      "text/plain": [
       "       duration  bitrate  framerate     i       p     b  o_framerate     umem  \\\n",
       "count      4890     4890       4890  4890    4890  4890         4890     4890   \n",
       "mean       1277      788         23   399   28510   116           21   197016   \n",
       "std        1554     1166          8   497   36594   158            7   195384   \n",
       "min           1        9          0     0      12     0           12     3970   \n",
       "25%         405       91         12   116    7731    29           15    63693   \n",
       "50%         812      347         25   247   17230    65           24   130939   \n",
       "75%        1545      837         30   495   35080   143           25   260130   \n",
       "max       25845    14502         49  7032  530243  2329           30  1315594   \n",
       "\n",
       "       utime  \n",
       "count   4890  \n",
       "mean     162  \n",
       "std       72  \n",
       "min        1  \n",
       "25%      107  \n",
       "50%      155  \n",
       "75%      206  \n",
       "max      614  "
      ]
     },
     "execution_count": 6,
     "metadata": {},
     "output_type": "execute_result"
    }
   ],
   "source": [
    "# 4. descriptive statistics\n",
    "transcoding_data.describe().round(0).applymap(np.int64)"
   ]
  },
  {
   "cell_type": "code",
   "execution_count": 7,
   "metadata": {},
   "outputs": [
    {
     "data": {
      "text/html": [
       "<div>\n",
       "<style scoped>\n",
       "    .dataframe tbody tr th:only-of-type {\n",
       "        vertical-align: middle;\n",
       "    }\n",
       "\n",
       "    .dataframe tbody tr th {\n",
       "        vertical-align: top;\n",
       "    }\n",
       "\n",
       "    .dataframe thead th {\n",
       "        text-align: right;\n",
       "    }\n",
       "</style>\n",
       "<table border=\"1\" class=\"dataframe\">\n",
       "  <thead>\n",
       "    <tr style=\"text-align: right;\">\n",
       "      <th></th>\n",
       "      <th>duration</th>\n",
       "      <th>bitrate</th>\n",
       "      <th>resolution</th>\n",
       "      <th>framerate</th>\n",
       "      <th>i</th>\n",
       "      <th>p</th>\n",
       "      <th>b</th>\n",
       "      <th>o_framerate</th>\n",
       "      <th>o_resolution</th>\n",
       "      <th>umem</th>\n",
       "      <th>utime</th>\n",
       "    </tr>\n",
       "  </thead>\n",
       "  <tbody>\n",
       "    <tr>\n",
       "      <th>0</th>\n",
       "      <td>267</td>\n",
       "      <td>373</td>\n",
       "      <td>568x320</td>\n",
       "      <td>29.97</td>\n",
       "      <td>102</td>\n",
       "      <td>7858</td>\n",
       "      <td>40</td>\n",
       "      <td>15.00</td>\n",
       "      <td>3</td>\n",
       "      <td>172247.935215</td>\n",
       "      <td>166.415727</td>\n",
       "    </tr>\n",
       "    <tr>\n",
       "      <th>1</th>\n",
       "      <td>267</td>\n",
       "      <td>324</td>\n",
       "      <td>400x226</td>\n",
       "      <td>29.97</td>\n",
       "      <td>130</td>\n",
       "      <td>7816</td>\n",
       "      <td>54</td>\n",
       "      <td>12.00</td>\n",
       "      <td>2</td>\n",
       "      <td>115355.838797</td>\n",
       "      <td>51.035704</td>\n",
       "    </tr>\n",
       "    <tr>\n",
       "      <th>2</th>\n",
       "      <td>267</td>\n",
       "      <td>85</td>\n",
       "      <td>176x144</td>\n",
       "      <td>12.00</td>\n",
       "      <td>43</td>\n",
       "      <td>3146</td>\n",
       "      <td>14</td>\n",
       "      <td>24.00</td>\n",
       "      <td>4</td>\n",
       "      <td>37827.340566</td>\n",
       "      <td>173.629478</td>\n",
       "    </tr>\n",
       "    <tr>\n",
       "      <th>3</th>\n",
       "      <td>31</td>\n",
       "      <td>1261</td>\n",
       "      <td>640x480</td>\n",
       "      <td>24.00</td>\n",
       "      <td>58</td>\n",
       "      <td>714</td>\n",
       "      <td>28</td>\n",
       "      <td>24.00</td>\n",
       "      <td>4</td>\n",
       "      <td>110002.908561</td>\n",
       "      <td>150.693204</td>\n",
       "    </tr>\n",
       "    <tr>\n",
       "      <th>4</th>\n",
       "      <td>31</td>\n",
       "      <td>370</td>\n",
       "      <td>320x240</td>\n",
       "      <td>24.00</td>\n",
       "      <td>61</td>\n",
       "      <td>674</td>\n",
       "      <td>8</td>\n",
       "      <td>29.97</td>\n",
       "      <td>6</td>\n",
       "      <td>77903.861755</td>\n",
       "      <td>278.413210</td>\n",
       "    </tr>\n",
       "    <tr>\n",
       "      <th>5</th>\n",
       "      <td>333</td>\n",
       "      <td>727</td>\n",
       "      <td>384x288</td>\n",
       "      <td>25.00</td>\n",
       "      <td>139</td>\n",
       "      <td>8157</td>\n",
       "      <td>27</td>\n",
       "      <td>15.00</td>\n",
       "      <td>3</td>\n",
       "      <td>90781.115843</td>\n",
       "      <td>130.548432</td>\n",
       "    </tr>\n",
       "    <tr>\n",
       "      <th>6</th>\n",
       "      <td>333</td>\n",
       "      <td>306</td>\n",
       "      <td>320x240</td>\n",
       "      <td>25.00</td>\n",
       "      <td>163</td>\n",
       "      <td>8119</td>\n",
       "      <td>42</td>\n",
       "      <td>24.00</td>\n",
       "      <td>5</td>\n",
       "      <td>54266.504159</td>\n",
       "      <td>184.049056</td>\n",
       "    </tr>\n",
       "    <tr>\n",
       "      <th>7</th>\n",
       "      <td>333</td>\n",
       "      <td>91</td>\n",
       "      <td>176x144</td>\n",
       "      <td>12.00</td>\n",
       "      <td>57</td>\n",
       "      <td>3920</td>\n",
       "      <td>18</td>\n",
       "      <td>15.00</td>\n",
       "      <td>3</td>\n",
       "      <td>18842.877160</td>\n",
       "      <td>59.506751</td>\n",
       "    </tr>\n",
       "    <tr>\n",
       "      <th>8</th>\n",
       "      <td>67</td>\n",
       "      <td>633</td>\n",
       "      <td>854x480</td>\n",
       "      <td>29.92</td>\n",
       "      <td>26</td>\n",
       "      <td>1974</td>\n",
       "      <td>4</td>\n",
       "      <td>29.97</td>\n",
       "      <td>6</td>\n",
       "      <td>236610.816723</td>\n",
       "      <td>235.736431</td>\n",
       "    </tr>\n",
       "    <tr>\n",
       "      <th>9</th>\n",
       "      <td>67</td>\n",
       "      <td>302</td>\n",
       "      <td>400x224</td>\n",
       "      <td>29.92</td>\n",
       "      <td>52</td>\n",
       "      <td>1922</td>\n",
       "      <td>29</td>\n",
       "      <td>24.00</td>\n",
       "      <td>6</td>\n",
       "      <td>104387.945170</td>\n",
       "      <td>220.047137</td>\n",
       "    </tr>\n",
       "  </tbody>\n",
       "</table>\n",
       "</div>"
      ],
      "text/plain": [
       "   duration  bitrate resolution  framerate    i     p   b  o_framerate  \\\n",
       "0       267      373    568x320      29.97  102  7858  40        15.00   \n",
       "1       267      324    400x226      29.97  130  7816  54        12.00   \n",
       "2       267       85    176x144      12.00   43  3146  14        24.00   \n",
       "3        31     1261    640x480      24.00   58   714  28        24.00   \n",
       "4        31      370    320x240      24.00   61   674   8        29.97   \n",
       "5       333      727    384x288      25.00  139  8157  27        15.00   \n",
       "6       333      306    320x240      25.00  163  8119  42        24.00   \n",
       "7       333       91    176x144      12.00   57  3920  18        15.00   \n",
       "8        67      633    854x480      29.92   26  1974   4        29.97   \n",
       "9        67      302    400x224      29.92   52  1922  29        24.00   \n",
       "\n",
       "  o_resolution           umem       utime  \n",
       "0            3  172247.935215  166.415727  \n",
       "1            2  115355.838797   51.035704  \n",
       "2            4   37827.340566  173.629478  \n",
       "3            4  110002.908561  150.693204  \n",
       "4            6   77903.861755  278.413210  \n",
       "5            3   90781.115843  130.548432  \n",
       "6            5   54266.504159  184.049056  \n",
       "7            3   18842.877160   59.506751  \n",
       "8            6  236610.816723  235.736431  \n",
       "9            6  104387.945170  220.047137  "
      ]
     },
     "execution_count": 7,
     "metadata": {},
     "output_type": "execute_result"
    }
   ],
   "source": [
    "# 4. the first ten rows\n",
    "transcoding_data.head(10)"
   ]
  },
  {
   "cell_type": "markdown",
   "metadata": {},
   "source": [
    "### 1.2 K-Means Clustering Implementation <span style= 'float: right;'><b>[10 marks]</b></span>\n",
    "\n",
    "Clustering helps visualise a dataset based on attributes considered important to the data scientist and/or reader.  Using the **Transcoding Dataset** above, implement a `K-Means clustering algorithm` to cluster the dataset of transcoded videos by using either all or a subset of the available features. Suppose you have used more than two features for your clustering; you are expected to reduce the dataset to either 2 or 3 dimensions.  After you have prepared your learning model, plot a **2D or 3D visualisation** showing the different clusters. \n",
    "\n",
    "It is up to you to decide how many clusters you would like to incorporate in your model. You are expected to **verbally and visually** justify your implementation, including the reasoning behind the choice of **the number of clusters** and **number of iterations** in your model. \n",
    "\n",
    "<span style='color:red;'><b>Note:</b> You are only allowed to use packages that are within the Anaconda distribution.</span>"
   ]
  },
  {
   "cell_type": "code",
   "execution_count": 31,
   "metadata": {},
   "outputs": [],
   "source": [
    "# YOUR CODE HERE\n",
    "# (ANY ADDITIONAL CELLS AS REQUIRED)\n",
    "\n",
    "# encode\n",
    "le = LabelEncoder()\n",
    "transcoding_data['resolution'] = le.fit_transform(transcoding_data['resolution'])\n",
    "\n",
    "# scale \n",
    "ss = StandardScaler()\n",
    "ss.fit(transcoding_data)\n",
    "transcoding_data_scaled = ss.transform(transcoding_data)\n",
    "\n",
    "# decompose\n",
    "pca = PCA(n_components=2)\n",
    "transcoding_data_reduced = pca.fit_transform(transcoding_data_scaled)"
   ]
  },
  {
   "cell_type": "code",
   "execution_count": 57,
   "metadata": {},
   "outputs": [
    {
     "data": {
      "image/png": "[encoded data removed]",
      "text/plain": [
       "<Figure size 576x360 with 1 Axes>"
      ]
     },
     "metadata": {
      "needs_background": "light"
     },
     "output_type": "display_data"
    }
   ],
   "source": [
    "# Elbow Method For Optimal k\n",
    "\n",
    "distortions = []\n",
    "K = range(1,10)\n",
    "\n",
    "for k in K:\n",
    "    kmc = KMeans(n_clusters=k)\n",
    "    kmc.fit(transcoding_data_reduced)\n",
    "    distortions.append(kmc.inertia_)\n",
    "    \n",
    "plt.figure(figsize=(8,5))\n",
    "plt.plot(K, distortions, 'bx-')\n",
    "plt.xlabel('k')\n",
    "plt.ylabel('Distortion')\n",
    "plt.title('Elbow Method For Optimal k')\n",
    "plt.show()"
   ]
  },
  {
   "cell_type": "raw",
   "metadata": {},
   "source": [
    "The Elbow Method returns an ambiguous plot for determining the elbow k. We could choose k to be either 3 or 4. Thus, I choose to use the Silhouette Method below."
   ]
  },
  {
   "cell_type": "code",
   "execution_count": 43,
   "metadata": {},
   "outputs": [
    {
     "data": {
      "image/png": "[encoded data removed]",
      "text/plain": [
       "<Figure size 576x360 with 1 Axes>"
      ]
     },
     "metadata": {
      "needs_background": "light"
     },
     "output_type": "display_data"
    }
   ],
   "source": [
    "# Silhouette Method For Optimal k\n",
    "\n",
    "sil = []\n",
    "kmax = 10\n",
    "\n",
    "# dissimilarity would not be defined for a single cluster, thus, minimum number of clusters should be 2\n",
    "for k in range(2, kmax+1):\n",
    "  kmc = KMeans(n_clusters = k).fit(transcoding_data_reduced)\n",
    "  labels = kmc.labels_\n",
    "  sil.append(silhouette_score(transcoding_data_reduced, labels, metric = 'euclidean'))\n",
    "\n",
    "plt.figure(figsize=(8,5))\n",
    "plt.plot(K, sil, 'bx-')\n",
    "plt.xlabel('k')\n",
    "plt.ylabel('Silhouette Score')\n",
    "plt.title('Silhouette Method For Optimal k')\n",
    "plt.show()"
   ]
  },
  {
   "cell_type": "raw",
   "metadata": {},
   "source": [
    "The Silhouette Score reaches its global maximum at the optimal k (Mahendru, 2019). The Silhouette Method returns a plot that indicates a clear peak at k = 3. Hence, k = 3 is optimal.\n",
    "\n",
    "Finally, the data can be optimally clustered into 3 clusters as shown below."
   ]
  },
  {
   "cell_type": "code",
   "execution_count": 138,
   "metadata": {},
   "outputs": [
    {
     "data": {
      "image/png": "[encoded data removed]",
      "text/plain": [
       "<Figure size 1080x720 with 1 Axes>"
      ]
     },
     "metadata": {
      "needs_background": "light"
     },
     "output_type": "display_data"
    }
   ],
   "source": [
    "# 3 clusters\n",
    "# random seed set so that analysis is consistent below\n",
    "kmc = KMeans(n_clusters=3, random_state=0)\n",
    "kmc_model = kmc.fit(transcoding_data_reduced)\n",
    "\n",
    "# plotting \n",
    "colors=[\"tomato\",\"royalblue\",\"limegreen\",\"rebeccapurple\",\"gold\",\"rosybrown\"]\n",
    "plt.figure(figsize=(15,10))\n",
    "for i in range(np.max(kmc_model.labels_)+1):\n",
    "    plt.scatter(transcoding_data_reduced[kmc_model.labels_==i][:,0], transcoding_data_reduced[kmc_model.labels_==i][:,1], label=i, c=colors[i], alpha=0.5)\n",
    "plt.scatter(kmc_model.cluster_centers_[:,0], kmc_model.cluster_centers_[:,1], label='Cluster Centers', c=\"black\", s=200)\n",
    "plt.title(\"K-Means Clustering of Transcoding Data\",size=20)\n",
    "plt.xlabel(\"Principle Component 1\", size=16)\n",
    "plt.ylabel(\"Principle Component 2\", size=16)\n",
    "plt.legend()\n",
    "plt.show()"
   ]
  },
  {
   "cell_type": "raw",
   "metadata": {},
   "source": [
    "# YOUR RESPONSE HERE\n",
    "\n",
    "1. I encode the Object variable 'resolution' to ordinal categorical variable by LabelEncoder, so that resolution can be considered when clustering.\n",
    "\n",
    "2. I scale the data by StandardScaler, so that the range of a predictor doesn't affect cluster distribution.\n",
    "\n",
    "3. I reduce the dimensionality of the data to 2 dimensions by Principle Components Analysis (PCA), so that I can look at the data from the best angle. Even though there are 11 variables originally, PCA decomposes all of the variables into 2 dimensions that maximise the variance between them.\n",
    "\n",
    "4. I use the Elbow Method and the Silhouette Method to determine the optimal number of clusters for fitting the K-Means model. The Elbow Method returns an ambiguous result so I turn to the Silhouette Method, and according to (Mahendru, 2019), the result's peak value k = 3 is optimal.\n",
    "\n",
    "5. I cluster the transcoding data optimally into 3 clusters by K-Means clustering, and visualize the result on a 2D plot. The plot represents 3 clusters in 2 dimensions of PCA."
   ]
  },
  {
   "cell_type": "markdown",
   "metadata": {},
   "source": [
    "### 1.3 Analysing the Clusters <span style= 'float: right;'><b>[10 marks]</b></span>\n",
    "\n",
    "With your clustering model complete, analyse the outputs in preparation for showing the results to the procurement team. Create a DataFrame for each cluster's data and identify their main attributes - how do these clusters differ from each other. Provide a brief commentary of the clustering model based on the analysis along with a visualisation of the mean `umem` and `utime` across the different clusters.\n",
    "\n",
    "**Note:** Your analysis should include the mean and deviation of the continuous variables, mode of the categorical variables, and size of each cluster."
   ]
  },
  {
   "cell_type": "code",
   "execution_count": 62,
   "metadata": {},
   "outputs": [
    {
     "data": {
      "text/html": [
       "<div>\n",
       "<style scoped>\n",
       "    .dataframe tbody tr th:only-of-type {\n",
       "        vertical-align: middle;\n",
       "    }\n",
       "\n",
       "    .dataframe tbody tr th {\n",
       "        vertical-align: top;\n",
       "    }\n",
       "\n",
       "    .dataframe thead th {\n",
       "        text-align: right;\n",
       "    }\n",
       "</style>\n",
       "<table border=\"1\" class=\"dataframe\">\n",
       "  <thead>\n",
       "    <tr style=\"text-align: right;\">\n",
       "      <th></th>\n",
       "      <th>Cluster</th>\n",
       "      <th>Size</th>\n",
       "      <th>Mode Resolution</th>\n",
       "      <th>Mode Output_Resolution</th>\n",
       "      <th>Mean Duration</th>\n",
       "      <th>Mean Bitrate</th>\n",
       "      <th>Mean Framerate</th>\n",
       "      <th>Mean Memory</th>\n",
       "      <th>Mean Time</th>\n",
       "      <th>Std Dev Duration</th>\n",
       "      <th>Std Dev Bitrate</th>\n",
       "      <th>Std Dev Framerate</th>\n",
       "      <th>Std Dev Memory</th>\n",
       "      <th>Std Dev Time</th>\n",
       "    </tr>\n",
       "  </thead>\n",
       "  <tbody>\n",
       "    <tr>\n",
       "      <th>0</th>\n",
       "      <td>0</td>\n",
       "      <td>3284</td>\n",
       "      <td>176x144</td>\n",
       "      <td>176x144</td>\n",
       "      <td>859</td>\n",
       "      <td>333</td>\n",
       "      <td>21</td>\n",
       "      <td>101662</td>\n",
       "      <td>128</td>\n",
       "      <td>769</td>\n",
       "      <td>314</td>\n",
       "      <td>8</td>\n",
       "      <td>74198</td>\n",
       "      <td>50</td>\n",
       "    </tr>\n",
       "    <tr>\n",
       "      <th>1</th>\n",
       "      <td>1</td>\n",
       "      <td>452</td>\n",
       "      <td>320x240</td>\n",
       "      <td>640x480</td>\n",
       "      <td>4780</td>\n",
       "      <td>610</td>\n",
       "      <td>26</td>\n",
       "      <td>303535</td>\n",
       "      <td>229</td>\n",
       "      <td>2645</td>\n",
       "      <td>905</td>\n",
       "      <td>6</td>\n",
       "      <td>168885</td>\n",
       "      <td>79</td>\n",
       "    </tr>\n",
       "    <tr>\n",
       "      <th>2</th>\n",
       "      <td>2</td>\n",
       "      <td>1154</td>\n",
       "      <td>1280x720</td>\n",
       "      <td>1920x1080</td>\n",
       "      <td>1096</td>\n",
       "      <td>2154</td>\n",
       "      <td>29</td>\n",
       "      <td>426648</td>\n",
       "      <td>230</td>\n",
       "      <td>688</td>\n",
       "      <td>1640</td>\n",
       "      <td>3</td>\n",
       "      <td>227854</td>\n",
       "      <td>55</td>\n",
       "    </tr>\n",
       "  </tbody>\n",
       "</table>\n",
       "</div>"
      ],
      "text/plain": [
       "   Cluster  Size Mode Resolution Mode Output_Resolution  Mean Duration  \\\n",
       "0        0  3284         176x144                176x144            859   \n",
       "1        1   452         320x240                640x480           4780   \n",
       "2        2  1154        1280x720              1920x1080           1096   \n",
       "\n",
       "   Mean Bitrate  Mean Framerate  Mean Memory  Mean Time  Std Dev Duration  \\\n",
       "0           333              21       101662        128               769   \n",
       "1           610              26       303535        229              2645   \n",
       "2          2154              29       426648        230               688   \n",
       "\n",
       "   Std Dev Bitrate  Std Dev Framerate  Std Dev Memory  Std Dev Time  \n",
       "0              314                  8           74198            50  \n",
       "1              905                  6          168885            79  \n",
       "2             1640                  3          227854            55  "
      ]
     },
     "execution_count": 62,
     "metadata": {},
     "output_type": "execute_result"
    }
   ],
   "source": [
    "# YOUR CODE HERE\n",
    "# (ANY ADDITIONAL CELLS AS REQUIRED)\n",
    "\n",
    "# convert types\n",
    "transcoding_data_copy['resolution'].astype(str)\n",
    "transcoding_data_copy['o_resolution'].astype(str)\n",
    "\n",
    "# split data and analyse\n",
    "k = np.max(kmc_model.labels_)+1\n",
    "df_clusters = [transcoding_data_copy[kmc_model.labels_==i] for i in range(k)]\n",
    "\n",
    "stat_dict = { \n",
    "    # size of each cluster\n",
    "    'Cluster' : list(range(k)),\n",
    "    'Size' :    [len(df_clusters[i]) for i in range(k)],\n",
    "    # mode of the categorical variables\n",
    "    'Mode Resolution':                  [df_clusters[i]['resolution'].value_counts().idxmax() for i in range(k)],\n",
    "    'Mode Output_Resolution':           [df_clusters[i]['o_resolution'].value_counts().idxmax() for i in range(k)],\n",
    "    # mean and deviation of the continuous variables\n",
    "    'Mean Duration' :                   [round(df_clusters[i]['duration'].mean(), 0).astype(int) for i in range(k)],\n",
    "    'Mean Bitrate' :                    [round(df_clusters[i]['bitrate'].mean(), 0).astype(int) for i in range(k)],\n",
    "    'Mean Framerate' :                  [round(df_clusters[i]['framerate'].mean(), 0).astype(int) for i in range(k)],\n",
    "    'Mean Memory' :                     [round(df_clusters[i]['umem'].mean(), 0).astype(int) for i in range(k)],\n",
    "    'Mean Time' :                       [round(df_clusters[i]['utime'].mean(), 0).astype(int) for i in range(k)],\n",
    "    'Std Dev Duration' :                [round(df_clusters[i]['duration'].std(), 0).astype(int) for i in range(k)],\n",
    "    'Std Dev Bitrate' :                 [round(df_clusters[i]['bitrate'].std(), 0).astype(int) for i in range(k)],\n",
    "    'Std Dev Framerate' :               [round(df_clusters[i]['framerate'].std(), 0).astype(int) for i in range(k)],\n",
    "    'Std Dev Memory' :                  [round(df_clusters[i]['umem'].std(), 0).astype(int) for i in range(k)],\n",
    "    'Std Dev Time' :                    [round(df_clusters[i]['utime'].std(), 0).astype(int) for i in range(k)]\n",
    "}\n",
    "df_cluster_stats = pd.DataFrame(stat_dict)\n",
    "df_cluster_stats"
   ]
  },
  {
   "cell_type": "code",
   "execution_count": 69,
   "metadata": {},
   "outputs": [
    {
     "data": {
      "image/png": "[encoded data removed]",
      "text/plain": [
       "<Figure size 864x360 with 2 Axes>"
      ]
     },
     "metadata": {
      "needs_background": "light"
     },
     "output_type": "display_data"
    }
   ],
   "source": [
    "fig, axes = plt.subplots(1, 2, figsize=(12, 5), gridspec_kw={\"width_ratios\": [1, 1]}) \n",
    "\n",
    "sns.barplot(data=df_cluster_stats, x='Cluster', y='Mean Memory', palette='rainbow', ax=axes[0])\n",
    "sns.barplot(data=df_cluster_stats, x='Cluster', y='Mean Time', palette='rainbow', ax=axes[1])\n",
    "\n",
    "axes[0].set_title('Mean Memory for Diffrent Clusters')\n",
    "axes[1].set_title('Mean Time for Diffrent Clusters')\n",
    "\n",
    "plt.show()"
   ]
  },
  {
   "cell_type": "raw",
   "metadata": {},
   "source": [
    "# YOUR RESPONSE HERE\n",
    "\n",
    "From the above, we see that:\n",
    "\n",
    "Cluster 0: \n",
    "continuous variables: low duration, low bitrate, low framerate, low memory, low time | low standard deviation in bitrate, memory, time\n",
    "categorical variables: lowest resolution and lowest output resolution\n",
    "size of cluster: the largest cluster\n",
    "           \n",
    "Cluster 1: \n",
    "continuous variables: highest duration, moderate bitrate, moderate framerate, moderate memory, high time | moderate standard deviation\n",
    "categorical variables: low resolution and low output resolution\n",
    "size of cluster: the smallest cluster\n",
    "           \n",
    "Cluster 2: \n",
    "continuous variables: moderate duration, highest bitrate, highest framerate, highest memory, high time | low standard deviation in duration, framerate, time\n",
    "categorical variables: highest resolution and highest output resolution\n",
    "size of cluster: the second largest cluster\n",
    "           \n",
    "           \n",
    "In sum, \n",
    "Cluster 0 is characterised by low continuous variables, low categorical variables, and is the largest cluster.\n",
    "Cluster 1 is characterised by high duration, high time, low resolution and output resolution,  and is the smallest cluster.\n",
    "Cluster 2 is characterised by high bitrate, high framerate, high memory, high time, the highest resolution and output resolution, and is the second largest cluster."
   ]
  },
  {
   "cell_type": "markdown",
   "metadata": {},
   "source": [
    "*****\n",
    "## Q2: KNN Classification for Video Transcoding <span style= 'float: right;'><b>[20 marks]</b></span>\n",
    "\n",
    "The rental company has decided that they want to use simple machine learning to allocate cost tags based on the transcoding score to the transcoded videos. The transcoding score can be obtained by taking the average of `umem` and `utime` and then normalizing it. The tags are as follows:\n",
    "\n",
    "\n",
    "|  **Classification**      |  **Requirements**        |\n",
    "|--------------------------|------------------------- |\n",
    "|  Cheap                   |  Transcoding Score is between 0.0 and 0.3   |\n",
    "|  Moderate                |  Transcoding Score is between 0.3 and 0.7 |\n",
    "|  Expensive               |  Transcoding Score is between 0.7 and 1.0 |\n",
    "\n",
    "\n",
    "**Note:** The `Classification` variable is an ordinal categorical variable whose ordering is Cheap $\\prec$ Moderate $\\prec$ Expensive where the relation $a \\prec b$ states that the variable $a$ precedes $b$.\n",
    "\n",
    "\n",
    "\n",
    "\n",
    "**Your task is to implement a `K-Nearest Neighbours Classification Algorithm` that can predict the transcoding score of a video**. \n",
    "\n",
    "You are required to perform the following tasks:\n",
    "\n",
    "1. Use the same transcoding_data dataset as the previous question.\n",
    "2. Modify the dataset to create the `Transcoding Score` column by manually determining the prediction class for existing data (where the rating is within the classification system defined above)\n",
    "3. Implement an algorithm that can predict the `Transcoding Score` using the features present in the transcoding_data dataset.\n",
    "4. Perform independent testing of the model and provide statistical metrics outlining the performance of your model. Splitting the dataset into testing and training subsets will assist with this.\n",
    "\n",
    "You are welcome to use any features within the dataset, except the `umem` and `utime` of the transcoded video. Various attributes relating to the characteristics of the video and their respective transcoding settings in the tables can be helpful while making the algorithm. If required, you can also look to make new compound attributes that may be helpful in increasing the accuracy of your model.\n",
    "\n",
    "You are expected to **verbally and visually (wherever approriate)** justify all aspects of your answer, including the features used, the metrics provided and the validation system employed. Provide commentary on the strengths and potential pitfalls of the model.\n",
    "\n",
    "<span style='color:red;'><b>Note:</b> You are only allowed to use packages that are within the Anaconda distribution. This means packages such as Keras, Tensorflow etc are not available for use.</span> "
   ]
  },
  {
   "cell_type": "code",
   "execution_count": null,
   "metadata": {},
   "outputs": [],
   "source": [
    "# YOUR CODE HERE\n",
    "# (ANY ADDITIONAL CELLS AS REQUIRED)"
   ]
  },
  {
   "cell_type": "raw",
   "metadata": {},
   "source": [
    "Enter your Response and Predictors here (for marker simplicity)\n",
    "\n",
    "Response: \n",
    "Predictors: "
   ]
  },
  {
   "cell_type": "raw",
   "metadata": {},
   "source": [
    "# YOUR RESPONSE HERE"
   ]
  },
  {
   "cell_type": "markdown",
   "metadata": {},
   "source": [
    "*****\n",
    "## Q3: Decision Trees for Digital Sky <span style= 'float: right;'><b>[20 marks]</b></span>\n",
    "\n",
    "The SDSS.csv data consists of 10,000 observations of space taken by the Sloan Digital Sky Survey, which offers public data of space observations. Every observation is described by 17 feature columns and 1 class column, which identifies it as either a star, galaxy or quasar.\n",
    "\n",
    "To ease your start with the data, you can read the feature descriptions in the [SDSS Description](./data/SDSS_Description.txt) file.\n",
    "\n",
    "**Your task is to implement a `Decision Tree Classification Algorithm` that can predict the `class` of an image**.\n",
    "\n",
    "You are required to perform the following tasks:\n",
    "\n",
    "1. Import the SDSS dataset and perform preprocessing as required.\n",
    "2. Create a new feature (or column) called `category` by converting the nominal categorical variable `class` into an ordinal categorical variable based on the table presented below:\n",
    "\n",
    "|  **class**      |  **category**        |\n",
    "|--------------------------|------------------------- |\n",
    "|  STAR                   |  0   |\n",
    "|  GALAXY                |  1 |\n",
    "|  QSO               |  2 |\n",
    "\n",
    "\n",
    "3. Implement an algorithm that can predict the `category` using the features present in the SDSS dataset.\n",
    "4. Perform independent testing of the model and provide statistical metrics outlining the performance of your model. Splitting the dataset into testing and training subsets will assist with this.\n",
    "5.  Plot the resulting Decision Tree produced by the Tree-Building algorithm.\n",
    "\n",
    "The QSO class refers to the quasi-stellar object, quasar. The order assigned to the `class` categorical variable is based on the brightness of the object, i.e. QSO is brighter than a GALAXY, and a GALAXY is brighter than a STAR.\n",
    "\n",
    "You are welcome to use any features within the dataset, except the `class` of the SDSS data. If required, you can also look to make new compound attributes that may help increase the accuracy of your model. You are expected to **verbally and visually** justify all aspects of your answer, including the features used, the metrics provided and the validation system employed. Provide commentary on the strengths and potential pitfalls of the model.\n",
    "\n",
    "<span style='color:red;'><b>Note:</b> You are only allowed to use packages that are within the Anaconda distribution. This means packages such as Keras, Tensorflow etc are not available for use.</span> "
   ]
  },
  {
   "cell_type": "code",
   "execution_count": null,
   "metadata": {},
   "outputs": [],
   "source": [
    "# YOUR CODE HERE\n",
    "# (ANY ADDITIONAL CELLS AS REQUIRED)"
   ]
  },
  {
   "cell_type": "raw",
   "metadata": {},
   "source": [
    "Enter your Response and Predictors here (for marker simplicity)\n",
    "\n",
    "Response: \n",
    "Predictors: "
   ]
  },
  {
   "cell_type": "code",
   "execution_count": null,
   "metadata": {},
   "outputs": [],
   "source": [
    "# YOUR CODE HERE\n",
    "# (ANY ADDITIONAL CELLS AS REQUIRED)"
   ]
  },
  {
   "cell_type": "raw",
   "metadata": {},
   "source": [
    "# YOUR RESPONSE HERE"
   ]
  },
  {
   "cell_type": "markdown",
   "metadata": {},
   "source": [
    "*****\n",
    "## Q4: Serious SQL <span style= 'float: right;'><b>[20 marks]</b></span>\n",
    "Consider the following scenario.\n",
    "\n",
    "> You are applying for a job as a database developer for an unnamed wrestling company. Part of the job description includes creating an automation system for running SQL queries. During the hiring process, the interviewers want to ensure you understand the SQL language. They have provided a set of questions to be answered by you, and your responses will later be reviewed by them. They are unwilling to give you access to their real database (which is mysteriously missing), so they have provided an SQLite3 database and asked you to interact with it using Python. \n",
    "\n",
    "\n",
    "Based on the above scenario, you have been asked to answer a number of questions to test your skills. You will be using the Northwind database for this question. The database model is as follows:\n",
    "\n",
    "![Northwind_Database](./img/er_diagram.png)\n",
    "\n",
    "In the following questions, you will be asked to execute the SQL statement, and explain any reasoning as necessary. Data can be formatted as raw printed output or a Pandas DataFrame. Recall the use of the `fetchone` and `fetchall` functions on an sqlite cursor for retriving information."
   ]
  },
  {
   "cell_type": "code",
   "execution_count": null,
   "metadata": {},
   "outputs": [],
   "source": [
    "# THIS IS YOUR CONNECTION BLOCK, DO NOT MODIFY THIS. \n",
    "# OTHERWISE, YOU WILL NOT BE ABLE TO READ THE DATABASE\n",
    "def create_connection():\n",
    "    \"\"\" create a database connection to a database that resides\n",
    "        in the memory\n",
    "    \"\"\"\n",
    "    conn = None\n",
    "    try:\n",
    "        conn = sqlite3.connect(':memory:')\n",
    "        print(\"Connection established!\")\n",
    "        \n",
    "    except Error as e:\n",
    "        print(\"Error Connecting to Database\")\n",
    "        raise(e)\n",
    "    return conn\n",
    "\n",
    "northwind_sql = 'data/northwind.sql'\n",
    "conn = create_connection() \n",
    "cur = conn.cursor()\n",
    "qry = open(northwind_sql, 'r').read()\n",
    "cur.executescript(qry)\n",
    "conn.commit()\n",
    "# remember to close the connection when everything is done"
   ]
  },
  {
   "cell_type": "code",
   "execution_count": null,
   "metadata": {},
   "outputs": [],
   "source": [
    "def execute_sql(query):\n",
    "    # Select table and display\n",
    "    cur.execute(query)\n",
    "\n",
    "    # Fetches all the rows from the result of the query\n",
    "    rows = cur.fetchall()\n",
    "    \n",
    "    # Gets the column names for the table\n",
    "    colnames = [desc[0] for desc in cur.description]\n",
    "\n",
    "    # Converts into readable pandas dataframe\n",
    "    df_result = pd.DataFrame(rows, columns=colnames)\n",
    "    return df_result"
   ]
  },
  {
   "cell_type": "markdown",
   "metadata": {},
   "source": [
    "### 4.1: Customised Customers <span style= 'float: right;'><b>[3 marks]</b></span>\n",
    "\n",
    "Retrieve the details of all the customers whose `ContactTitle` is Owner or is located in the `Country` Mexico. "
   ]
  },
  {
   "cell_type": "code",
   "execution_count": null,
   "metadata": {},
   "outputs": [],
   "source": [
    "# YOUR CODE HERE\n",
    "# (ANY ADDITIONAL CELLS AS REQUIRED)"
   ]
  },
  {
   "cell_type": "markdown",
   "metadata": {},
   "source": [
    "### 4.2: Customers With No Orders <span style= 'float: right;'><b>[3 marks]</b></span>\n",
    "There are some customers who have never actually placed an order. Show these customers."
   ]
  },
  {
   "cell_type": "code",
   "execution_count": null,
   "metadata": {},
   "outputs": [],
   "source": [
    "# YOUR CODE HERE\n",
    "# (ANY ADDITIONAL CELLS AS REQUIRED)"
   ]
  },
  {
   "cell_type": "markdown",
   "metadata": {},
   "source": [
    "### 4.3: Products & their Categories <span style= 'float: right;'><b>[3 marks]</b></span>\n",
    "\n",
    "Count the total quantity sold for each products. Retrieve the `ProductID`, `ProductName`, `CategoryName`, and the total quantity sold as `Total Sold`."
   ]
  },
  {
   "cell_type": "code",
   "execution_count": null,
   "metadata": {},
   "outputs": [],
   "source": [
    "# YOUR CODE HERE\n",
    "# (ANY ADDITIONAL CELLS AS REQUIRED)"
   ]
  },
  {
   "cell_type": "markdown",
   "metadata": {},
   "source": [
    "### 4.4: Products Above Average Price <span style= 'float: right;'><b>[3 marks]</b></span>\n",
    "\n",
    "Retrieve the `ProductName` and `UnitPrice` of all the products whose price is greater than the average price of all the products."
   ]
  },
  {
   "cell_type": "code",
   "execution_count": null,
   "metadata": {},
   "outputs": [],
   "source": [
    "# YOUR CODE HERE\n",
    "# (ANY ADDITIONAL CELLS AS REQUIRED)"
   ]
  },
  {
   "cell_type": "markdown",
   "metadata": {},
   "source": [
    "### 4.5: Most Expensive Products <span style= 'float: right;'><b>[3 marks]</b></span>\n",
    "\n",
    "Get the `ProductName` and the `UnitPrice` of the top 10 most expensive products."
   ]
  },
  {
   "cell_type": "code",
   "execution_count": null,
   "metadata": {},
   "outputs": [],
   "source": [
    "# YOUR CODE HERE\n",
    "# (ANY ADDITIONAL CELLS AS REQUIRED)"
   ]
  },
  {
   "cell_type": "markdown",
   "metadata": {},
   "source": [
    "### 4.6: Stocktaking Products by Category and Supplier <span style= 'float: right;'><b>[5 marks]</b></span>\n",
    "\n",
    "Get the total number of units that are in stock for each `ProductCategory` for each `Supplier Continent`. The resulting table should contain three columns: `ProductCategory`, `Supplier Continent`, and `UnitsInStock`.\n",
    "\n",
    "`Supplier Continent` can be obtained by mapping the values present in `Country` to their relevant continent. The table below contains the list of countries and the continent that they belong to.\n",
    "\n",
    "|  **Country**      |  **Supplier Continent**        |\n",
    "|--------------------------|------------------------- |\n",
    "|  UK, Spain, Sweden, Germany, Norway, Denmark, Netherlands, Finland, Italy, France                   |  Europe   |\n",
    "|  USA, Canada, Brazil                |  America |\n",
    "|  Australia, Japan, Singapore               |  Asia-Pacific |"
   ]
  },
  {
   "cell_type": "code",
   "execution_count": null,
   "metadata": {},
   "outputs": [],
   "source": [
    "# YOUR CODE HERE\n",
    "# (ANY ADDITIONAL CELLS AS REQUIRED)"
   ]
  },
  {
   "cell_type": "markdown",
   "metadata": {},
   "source": [
    "*****\n",
    "## Q5: Ethics and Security <span style= 'float: right;'><b>[15 marks]</b></span>\n",
    "\n",
    "\n"
   ]
  },
  {
   "cell_type": "markdown",
   "metadata": {},
   "source": [
    "#### 5.1: OkCupid Data Scrape <span style= 'float: right;'><b>[5 marks]</b></span>\n",
    "\n",
    "While Data Scientists and Data Engineers spend a lot of timing thinking about how to solve a problem, it is important to think about _why_ we solve a problem and what impacts it could have. For the following scenario, provide a written response to the questions.\n",
    "\n",
    "> In 2016, almost 70,000 Okcupid profiles had their data released onto the Open Science Framework. This place is an online community where people share raw data and collaborate with each other over data sets. Two Danish researchers, Emil Kirkegaard and Julius Daugbjerg-Bjerrekaer, scraped the data with a bot profile on Okcupid and released publicly identifiable information such as age, gender, sexual orientation, and personal responses to the survey questions the website asks when people sign up for a profile. More importantly, the two researchers didn’t feel their actions were explicitly or ethically wrong, because “Data is already public.” This huge data release raised eyebrows and forced questions about the ethics of releasing “already public” data. \n",
    "\n",
    "What does big data ethics have to say about already public data? What harms could arise from the outcomes of the two Danish researchers' actions?\n",
    "\n",
    "Provide examples in your response to the questions.\n",
    "\n",
    "**NOTE:** Marks will be awarded based on the brevity and clarity of the arguments and not on quantity. Do not exceed more than 300 words."
   ]
  },
  {
   "cell_type": "raw",
   "metadata": {},
   "source": [
    "# YOUR RESPONSE HERE"
   ]
  },
  {
   "cell_type": "markdown",
   "metadata": {},
   "source": [
    "#### 5.2: Digital Signature <span style= 'float: right;'><b>[8 marks]</b></span>\n",
    "\n",
    "Consider the following scenario:\n",
    "\n",
    "> Ray Technologies has outsourced some work to Lux and Kay, and needs them to jointly sign a contract, which it will then also sign. Since all of the parties involved are located in different parts of the world, and this is a frequently occurring scenario, Ray Technologies decides to come up with a method for doing this electronically. The contract has to be signed by both Lux and Kay, and then finally by Ray Technologies. We assume that the contract is transmitted electronically over public channels, so integrity and confidentiality have to be assured. Both Lux and Kay need to be assured that they are both signing the same contract and need to each have a copy of the contract signed by all three parties involved. The contract needs to be non-repudiable and the process has to be efficient.\n",
    "\n",
    "Describe a method that Ray Technologies can use for this purpose that uses cryptographic techniques and meets the above requirements."
   ]
  },
  {
   "cell_type": "raw",
   "metadata": {},
   "source": [
    "# YOUR RESPONSE HERE"
   ]
  },
  {
   "cell_type": "markdown",
   "metadata": {},
   "source": [
    "#### 5.3: Resilient to the future <span style= 'float: right;'><b>[2 marks]</b></span>\n",
    "\n",
    "As technology evolves, so does the need for secure cryptographic algorithms. With the introduction of quantum computing, the organisations around the world are preparing to migrate towards quantum resistant algorithms.\n",
    "\n",
    "Briefly explain why there is a need for quantum-resistant cryptographic algorithms."
   ]
  },
  {
   "cell_type": "raw",
   "metadata": {},
   "source": [
    "# YOUR RESPONSE HERE"
   ]
  }
 ],
 "metadata": {
  "kernelspec": {
   "display_name": "Python 3",
   "language": "python",
   "name": "python3"
  },
  "language_info": {
   "codemirror_mode": {
    "name": "ipython",
    "version": 3
   },
   "file_extension": ".py",
   "mimetype": "text/x-python",
   "name": "python",
   "nbconvert_exporter": "python",
   "pygments_lexer": "ipython3",
   "version": "3.8.8"
  }
 },
 "nbformat": 4,
 "nbformat_minor": 4
}
